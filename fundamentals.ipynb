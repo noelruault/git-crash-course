{
 "cells": [
  {
   "cell_type": "markdown",
   "metadata": {},
   "source": [
    "\n",
    "\n",
    "## The idea\n",
    "\n",
    "I love to have maps in my mind. I don’t write “mind maps”, because they are a well\\-known type of diagrams. Now I’m talking about having frames, structures or any kind of graphical representation in the mind. For example, I started learning addition by imagining dice in my mind.\n",
    "\n",
    "So I prepared some drawings. It’s not necessary to be able to see the drawings to understand this post. I include an explanation for each of them, because of my awareness with accessibility.\n",
    "\n",
    "Furthermore, in this case, it’s very important to teach the vocabulary. Otherwise they won’t understand the messages from Git. The drawings are a good way to introduce them that vocabulary.\n",
    "\n"
   ]
  },
  {
   "cell_type": "markdown",
   "metadata": {},
   "source": [
    "## A distributed version control system\n",
    "\n",
    "![](https://rachelcarmena.github.io/img/cards/posts/how-to-teach-Git/general-drawing.png)\n",
    "\n",
    "The general drawing contains 4 areas distributed as follows:\n",
    "\n",
    "*   The development environment with:\n",
    "    *   Working directory\n",
    "    *   Staging area or index\n",
    "    *   Local repository\n",
    "*   A server with:\n",
    "    *   Remote repository\n",
    "\n",
    "At that time, you can explain the benefits of a distributed version control system.\n",
    "\n"
   ]
  },
  {
   "cell_type": "markdown",
   "metadata": {},
   "source": [
    "## Cloning a repository\n",
    "\n",
    "![](https://raw.githubusercontent.com/rachelcarmena/how-to-teach/master/git/clone.png)\n",
    "\n",
    "When cloning a repository, the data from the remote repository travel to 2 areas:\n",
    "\n",
    "*   Working directory\n",
    "*   Local repository\n",
    "\n"
   ]
  },
  {
   "cell_type": "code",
   "execution_count": 179,
   "metadata": {},
   "outputs": [
    {
     "name": "stdout",
     "output_type": "stream",
     "text": [
      ".\r\n",
      "├── .DS_Store\r\n",
      "├── .ipynb_checkpoints\r\n",
      "│   └── fundamentals-checkpoint.ipynb\r\n",
      "├── assets\r\n",
      "│   └── verboso.png\r\n",
      "└── fundamentals.ipynb\r\n",
      "\r\n",
      "2 directories, 4 files\r\n"
     ]
    }
   ],
   "source": [
    "!tree -a -L 2"
   ]
  },
  {
   "cell_type": "code",
   "execution_count": 181,
   "metadata": {},
   "outputs": [
    {
     "name": "stdout",
     "output_type": "stream",
     "text": [
      "Cloning into 'git-crash-course'...\n",
      "warning: You appear to have cloned an empty repository.\n"
     ]
    }
   ],
   "source": [
    "!cd $HOME/Projects/git-crash-course && git clone https://github.com/noelruault/git-crash-course.git "
   ]
  },
  {
   "cell_type": "code",
   "execution_count": 182,
   "metadata": {},
   "outputs": [
    {
     "name": "stdout",
     "output_type": "stream",
     "text": [
      ".\r\n",
      "├── .DS_Store\r\n",
      "├── .git\r\n",
      "│   ├── HEAD\r\n",
      "│   ├── config\r\n",
      "│   ├── description\r\n",
      "│   ├── hooks\r\n",
      "│   ├── info\r\n",
      "│   ├── objects\r\n",
      "│   └── refs\r\n",
      "├── .ipynb_checkpoints\r\n",
      "│   └── fundamentals-checkpoint.ipynb\r\n",
      "├── assets\r\n",
      "│   └── verboso.png\r\n",
      "└── fundamentals.ipynb\r\n",
      "\r\n",
      "7 directories, 7 files\r\n"
     ]
    }
   ],
   "source": [
    "!tree -a -L 2"
   ]
  },
  {
   "cell_type": "markdown",
   "metadata": {},
   "source": [
    "## Making changes in the working directory\n",
    "\n",
    "![](https://raw.githubusercontent.com/rachelcarmena/how-to-teach/master/git/tracked-untracked.png)\n",
    "\n",
    "There are 2 types of files in the working directory:\n",
    "\n",
    "*   **Tracked**: files that Git knows about.\n",
    "*   **Untracked**: files that have still not been added, so Git doesn’t know about.\n",
    "\n"
   ]
  },
  {
   "cell_type": "code",
   "execution_count": 183,
   "metadata": {},
   "outputs": [
    {
     "name": "stdout",
     "output_type": "stream",
     "text": [
      ".\r\n",
      "├── assets\r\n",
      "│   └── verboso.png\r\n",
      "├── fundamentals.ipynb\r\n",
      "└── myapp\r\n",
      "\r\n",
      "2 directories, 2 files\r\n"
     ]
    }
   ],
   "source": [
    "!(mkdir myapp && tree || tree) && subl myapp"
   ]
  },
  {
   "cell_type": "code",
   "execution_count": null,
   "metadata": {},
   "outputs": [],
   "source": [
    "!subl myapp"
   ]
  },
  {
   "cell_type": "code",
   "execution_count": 184,
   "metadata": {},
   "outputs": [
    {
     "name": "stdout",
     "output_type": "stream",
     "text": [
      "..\r\n",
      "├── assets\r\n",
      "│   └── verboso.png\r\n",
      "├── fundamentals.ipynb\r\n",
      "└── myapp\r\n",
      "    ├── app.js\r\n",
      "    └── index.html\r\n",
      "\r\n",
      "2 directories, 4 files\r\n"
     ]
    }
   ],
   "source": [
    "!cd myapp && touch index.html && touch app.js && tree .."
   ]
  },
  {
   "cell_type": "markdown",
   "metadata": {},
   "source": [
    "## Updating the remote repository\n",
    "\n",
    "![](https://raw.githubusercontent.com/rachelcarmena/how-to-teach/master/git/add-commit-push.png)\n"
   ]
  },
  {
   "cell_type": "code",
   "execution_count": 187,
   "metadata": {},
   "outputs": [
    {
     "name": "stdout",
     "output_type": "stream",
     "text": [
      "On branch master\r\n",
      "\r\n",
      "No commits yet\r\n",
      "\r\n",
      "Untracked files:\r\n",
      "  (use \"git add <file>...\" to include in what will be committed)\r\n",
      "\r\n",
      "\t\u001b[31mmyapp/app.js\u001b[m\r\n",
      "\t\u001b[31mmyapp/index.html\u001b[m\r\n",
      "\r\n",
      "nothing added to commit but untracked files present (use \"git add\" to track)\r\n"
     ]
    }
   ],
   "source": [
    "!git status myapp/"
   ]
  },
  {
   "cell_type": "code",
   "execution_count": 192,
   "metadata": {},
   "outputs": [
    {
     "name": "stdout",
     "output_type": "stream",
     "text": [
      "On branch master\r\n",
      "\r\n",
      "No commits yet\r\n",
      "\r\n",
      "Changes to be committed:\r\n",
      "  (use \"git rm --cached <file>...\" to unstage)\r\n",
      "\r\n",
      "\t\u001b[32mnew file:   myapp/index.html\u001b[m\r\n",
      "\r\n",
      "Untracked files:\r\n",
      "  (use \"git add <file>...\" to include in what will be committed)\r\n",
      "\r\n",
      "\t\u001b[31mmyapp/app.js\u001b[m\r\n",
      "\r\n"
     ]
    }
   ],
   "source": [
    "!git add myapp/index.html && git status myapp/"
   ]
  },
  {
   "cell_type": "code",
   "execution_count": 193,
   "metadata": {},
   "outputs": [
    {
     "name": "stdout",
     "output_type": "stream",
     "text": [
      "rm 'myapp/index.html'\r\n",
      "On branch master\r\n",
      "\r\n",
      "No commits yet\r\n",
      "\r\n",
      "Untracked files:\r\n",
      "  (use \"git add <file>...\" to include in what will be committed)\r\n",
      "\r\n",
      "\t\u001b[31mmyapp/app.js\u001b[m\r\n",
      "\t\u001b[31mmyapp/index.html\u001b[m\r\n",
      "\r\n",
      "nothing added to commit but untracked files present (use \"git add\" to track)\r\n"
     ]
    }
   ],
   "source": [
    "!git rm --cached myapp/index.html && git status myapp/"
   ]
  },
  {
   "cell_type": "markdown",
   "metadata": {},
   "source": [
    "\n",
    "As changes are ready in the **working directory**, they must be added in the **staging area**.\n",
    "\n",
    "When there is a set of changes with a single purpose in the **staging area**, it’s the time to create a commit with a message about that purpose in the **local repository**.\n",
    "\n",
    "When there are one or several commits in the **local repository** ready to be shared with the rest of the world, they must be pushed to the **remote repository**.\n",
    "\n",
    "At that time, you can talk about the different states of a file in the development environment: **modified**, **staged** and **committed**.\n",
    "\n",
    "![](https://raw.githubusercontent.com/rachelcarmena/how-to-teach/master/git/states.png)\n",
    "\n",
    "Furthermore, you can explain:\n",
    "\n",
    "*   how to show the changes of a file in the **working directory**: `git diff`\n",
    "*   how to show the changes of a file in the **staging area**: `git diff --staged`\n",
    "*   how a file can be changed in the **working directory** after being added to the **staging area**\n",
    "*   etc.\n",
    "\n"
   ]
  },
  {
   "cell_type": "code",
   "execution_count": 194,
   "metadata": {},
   "outputs": [
    {
     "name": "stdout",
     "output_type": "stream",
     "text": [
      "<!-- Author: Noel Ruault. -->\r\n"
     ]
    }
   ],
   "source": [
    "!echo \"<!-- Author: Noel Ruault. -->\" >> myapp/index.html && cat myapp/index.html"
   ]
  },
  {
   "cell_type": "code",
   "execution_count": 195,
   "metadata": {
    "scrolled": true
   },
   "outputs": [
    {
     "name": "stdout",
     "output_type": "stream",
     "text": [
      "On branch master\r\n",
      "\r\n",
      "No commits yet\r\n",
      "\r\n",
      "Untracked files:\r\n",
      "  (use \"git add <file>...\" to include in what will be committed)\r\n",
      "\r\n",
      "\t\u001b[31m.DS_Store\u001b[m\r\n",
      "\t\u001b[31m.ipynb_checkpoints/\u001b[m\r\n",
      "\t\u001b[31massets/\u001b[m\r\n",
      "\t\u001b[31mfundamentals.ipynb\u001b[m\r\n",
      "\t\u001b[31mmyapp/\u001b[m\r\n",
      "\r\n",
      "nothing added to commit but untracked files present (use \"git add\" to track)\r\n"
     ]
    }
   ],
   "source": [
    "!git status && git diff"
   ]
  },
  {
   "cell_type": "code",
   "execution_count": 196,
   "metadata": {},
   "outputs": [
    {
     "name": "stdout",
     "output_type": "stream",
     "text": [
      "On branch master\r\n",
      "\r\n",
      "No commits yet\r\n",
      "\r\n",
      "Changes to be committed:\r\n",
      "  (use \"git rm --cached <file>...\" to unstage)\r\n",
      "\r\n",
      "\t\u001b[32mnew file:   myapp/index.html\u001b[m\r\n",
      "\r\n",
      "Untracked files:\r\n",
      "  (use \"git add <file>...\" to include in what will be committed)\r\n",
      "\r\n",
      "\t\u001b[31m.DS_Store\u001b[m\r\n",
      "\t\u001b[31m.ipynb_checkpoints/\u001b[m\r\n",
      "\t\u001b[31massets/\u001b[m\r\n",
      "\t\u001b[31mfundamentals.ipynb\u001b[m\r\n",
      "\t\u001b[31mmyapp/app.js\u001b[m\r\n",
      "\r\n"
     ]
    }
   ],
   "source": [
    "!git add myapp/index.html && git status"
   ]
  },
  {
   "cell_type": "code",
   "execution_count": 199,
   "metadata": {},
   "outputs": [],
   "source": [
    "!git diff"
   ]
  },
  {
   "cell_type": "code",
   "execution_count": 198,
   "metadata": {},
   "outputs": [
    {
     "name": "stdout",
     "output_type": "stream",
     "text": [
      "\u001b[1mdiff --git a/myapp/index.html b/myapp/index.html\u001b[m\r\n",
      "\u001b[1mnew file mode 100644\u001b[m\r\n",
      "\u001b[1mindex 0000000..ecd3a11\u001b[m\r\n",
      "\u001b[1m--- /dev/null\u001b[m\r\n",
      "\u001b[1m+++ b/myapp/index.html\u001b[m\r\n",
      "\u001b[36m@@ -0,0 +1 @@\u001b[m\r\n",
      "\u001b[32m+\u001b[m\u001b[32m<!-- Author: Noel Ruault. -->\u001b[m\r\n"
     ]
    }
   ],
   "source": [
    "!git diff --staged"
   ]
  },
  {
   "cell_type": "markdown",
   "metadata": {},
   "source": [
    "FILE IS STAGED"
   ]
  },
  {
   "cell_type": "code",
   "execution_count": 200,
   "metadata": {},
   "outputs": [
    {
     "name": "stdout",
     "output_type": "stream",
     "text": [
      "<!-- Author: Noel Ruault. -->\r\n",
      "<!-- First line from master. -->\r\n"
     ]
    }
   ],
   "source": [
    "!echo \"<!-- First line from master. -->\" >> myapp/index.html && cat myapp/index.html"
   ]
  },
  {
   "cell_type": "code",
   "execution_count": 201,
   "metadata": {},
   "outputs": [
    {
     "name": "stdout",
     "output_type": "stream",
     "text": [
      "\u001b[1mdiff --git a/myapp/index.html b/myapp/index.html\u001b[m\r\n",
      "\u001b[1mindex ecd3a11..b78dcb9 100644\u001b[m\r\n",
      "\u001b[1m--- a/myapp/index.html\u001b[m\r\n",
      "\u001b[1m+++ b/myapp/index.html\u001b[m\r\n",
      "\u001b[36m@@ -1 +1,2 @@\u001b[m\r\n",
      " <!-- Author: Noel Ruault. -->\u001b[m\r\n",
      "\u001b[32m+\u001b[m\u001b[32m<!-- First line from master. -->\u001b[m\r\n"
     ]
    }
   ],
   "source": [
    "!git diff"
   ]
  },
  {
   "cell_type": "code",
   "execution_count": 202,
   "metadata": {},
   "outputs": [
    {
     "name": "stdout",
     "output_type": "stream",
     "text": [
      "\u001b[1mdiff --git a/myapp/index.html b/myapp/index.html\u001b[m\r\n",
      "\u001b[1mnew file mode 100644\u001b[m\r\n",
      "\u001b[1mindex 0000000..ecd3a11\u001b[m\r\n",
      "\u001b[1m--- /dev/null\u001b[m\r\n",
      "\u001b[1m+++ b/myapp/index.html\u001b[m\r\n",
      "\u001b[36m@@ -0,0 +1 @@\u001b[m\r\n",
      "\u001b[32m+\u001b[m\u001b[32m<!-- Author: Noel Ruault. -->\u001b[m\r\n"
     ]
    }
   ],
   "source": [
    "!git diff --staged"
   ]
  },
  {
   "cell_type": "code",
   "execution_count": 207,
   "metadata": {},
   "outputs": [
    {
     "name": "stdout",
     "output_type": "stream",
     "text": [
      "On branch master\r\n",
      "\r\n",
      "No commits yet\r\n",
      "\r\n",
      "Changes to be committed:\r\n",
      "  (use \"git rm --cached <file>...\" to unstage)\r\n",
      "\r\n",
      "\t\u001b[32mnew file:   myapp/index.html\u001b[m\r\n",
      "\r\n",
      "Changes not staged for commit:\r\n",
      "  (use \"git add <file>...\" to update what will be committed)\r\n",
      "  (use \"git checkout -- <file>...\" to discard changes in working directory)\r\n",
      "\r\n",
      "\t\u001b[31mmodified:   myapp/index.html\u001b[m\r\n",
      "\r\n",
      "Untracked files:\r\n",
      "  (use \"git add <file>...\" to include in what will be committed)\r\n",
      "\r\n",
      "\t\u001b[31m.DS_Store\u001b[m\r\n",
      "\t\u001b[31m.ipynb_checkpoints/\u001b[m\r\n",
      "\t\u001b[31massets/\u001b[m\r\n",
      "\t\u001b[31mfundamentals.ipynb\u001b[m\r\n",
      "\t\u001b[31mmyapp/app.js\u001b[m\r\n",
      "\r\n",
      "[master (root-commit) 6d2b67e] Add author label to html file.\r\n",
      " 1 file changed, 1 insertion(+)\r\n",
      " create mode 100644 myapp/index.html\r\n"
     ]
    }
   ],
   "source": [
    "!git status && git commit -m \"Add author label to html file.\""
   ]
  },
  {
   "cell_type": "markdown",
   "metadata": {},
   "source": [
    "REMINDER\n",
    "![](https://raw.githubusercontent.com/rachelcarmena/how-to-teach/master/git/states.png)"
   ]
  },
  {
   "cell_type": "code",
   "execution_count": 208,
   "metadata": {},
   "outputs": [
    {
     "name": "stdout",
     "output_type": "stream",
     "text": [
      "On branch master\r\n",
      "Your branch is based on 'origin/master', but the upstream is gone.\r\n",
      "  (use \"git branch --unset-upstream\" to fixup)\r\n",
      "\r\n",
      "Changes not staged for commit:\r\n",
      "  (use \"git add <file>...\" to update what will be committed)\r\n",
      "  (use \"git checkout -- <file>...\" to discard changes in working directory)\r\n",
      "\r\n",
      "\t\u001b[31mmodified:   myapp/index.html\u001b[m\r\n",
      "\r\n",
      "Untracked files:\r\n",
      "  (use \"git add <file>...\" to include in what will be committed)\r\n",
      "\r\n",
      "\t\u001b[31m.DS_Store\u001b[m\r\n",
      "\t\u001b[31m.ipynb_checkpoints/\u001b[m\r\n",
      "\t\u001b[31massets/\u001b[m\r\n",
      "\t\u001b[31mfundamentals.ipynb\u001b[m\r\n",
      "\t\u001b[31mmyapp/app.js\u001b[m\r\n",
      "\r\n",
      "no changes added to commit (use \"git add\" and/or \"git commit -a\")\r\n"
     ]
    }
   ],
   "source": [
    "!git status"
   ]
  },
  {
   "cell_type": "code",
   "execution_count": 209,
   "metadata": {},
   "outputs": [
    {
     "name": "stdout",
     "output_type": "stream",
     "text": [
      "\u001b[1mdiff --git a/myapp/index.html b/myapp/index.html\u001b[m\r\n",
      "\u001b[1mindex ecd3a11..b78dcb9 100644\u001b[m\r\n",
      "\u001b[1m--- a/myapp/index.html\u001b[m\r\n",
      "\u001b[1m+++ b/myapp/index.html\u001b[m\r\n",
      "\u001b[36m@@ -1 +1,2 @@\u001b[m\r\n",
      " <!-- Author: Noel Ruault. -->\u001b[m\r\n",
      "\u001b[32m+\u001b[m\u001b[32m<!-- First line from master. -->\u001b[m\r\n"
     ]
    }
   ],
   "source": [
    "!git diff"
   ]
  },
  {
   "cell_type": "code",
   "execution_count": 211,
   "metadata": {},
   "outputs": [],
   "source": [
    "!git diff --cached"
   ]
  },
  {
   "cell_type": "code",
   "execution_count": 212,
   "metadata": {},
   "outputs": [
    {
     "name": "stdout",
     "output_type": "stream",
     "text": [
      "\u001b[33mcommit 6d2b67ea835e20ce937bde8a74574f4083ee56ae\u001b[m\u001b[33m (\u001b[m\u001b[1;36mHEAD -> \u001b[m\u001b[1;32mmaster\u001b[m\u001b[33m)\u001b[m\r\n",
      "Author: Noel Ruault <noel.ruault@qvantel.com>\r\n",
      "Date:   Wed Jan 30 17:42:13 2019 +0100\r\n",
      "\r\n",
      "    Add author label to html file.\r\n"
     ]
    }
   ],
   "source": [
    "!git log"
   ]
  },
  {
   "cell_type": "code",
   "execution_count": 218,
   "metadata": {},
   "outputs": [
    {
     "name": "stdout",
     "output_type": "stream",
     "text": [
      "\u001b[1mdiff --git a/myapp/index.html b/myapp/index.html\u001b[m\r\n",
      "\u001b[1mindex ecd3a11..b78dcb9 100644\u001b[m\r\n",
      "\u001b[1m--- a/myapp/index.html\u001b[m\r\n",
      "\u001b[1m+++ b/myapp/index.html\u001b[m\r\n",
      "\u001b[36m@@ -1 +1,2 @@\u001b[m\r\n",
      " <!-- Author: Noel Ruault. -->\u001b[m\r\n",
      "\u001b[32m+\u001b[m\u001b[32m<!-- First line from master. -->\u001b[m\r\n"
     ]
    }
   ],
   "source": [
    "!git diff 6d2b67ea835e20ce937bde8a74574f4083ee56ae"
   ]
  },
  {
   "cell_type": "code",
   "execution_count": 219,
   "metadata": {},
   "outputs": [
    {
     "name": "stdout",
     "output_type": "stream",
     "text": [
      "[master ac890c5] Add first line to html file.\r\n",
      " 1 file changed, 1 insertion(+)\r\n"
     ]
    }
   ],
   "source": [
    "!git add myapp/index.html && git commit -m \"Add first line to html file.\""
   ]
  },
  {
   "cell_type": "code",
   "execution_count": 220,
   "metadata": {},
   "outputs": [
    {
     "name": "stdout",
     "output_type": "stream",
     "text": [
      "\u001b[33mcommit ac890c5f24947e43de608a6098c2e87929aee67f\u001b[m\u001b[33m (\u001b[m\u001b[1;36mHEAD -> \u001b[m\u001b[1;32mmaster\u001b[m\u001b[33m)\u001b[m\r\n",
      "Author: Noel Ruault <noel.ruault@qvantel.com>\r\n",
      "Date:   Wed Jan 30 17:48:50 2019 +0100\r\n",
      "\r\n",
      "    Add first line to html file.\r\n",
      "\r\n",
      "\u001b[33mcommit 6d2b67ea835e20ce937bde8a74574f4083ee56ae\u001b[m\r\n",
      "Author: Noel Ruault <noel.ruault@qvantel.com>\r\n",
      "Date:   Wed Jan 30 17:42:13 2019 +0100\r\n",
      "\r\n",
      "    Add author label to html file.\r\n"
     ]
    }
   ],
   "source": [
    "!git log"
   ]
  },
  {
   "cell_type": "code",
   "execution_count": 221,
   "metadata": {},
   "outputs": [],
   "source": [
    "!git diff && git diff --cached"
   ]
  },
  {
   "cell_type": "code",
   "execution_count": 222,
   "metadata": {},
   "outputs": [
    {
     "name": "stdout",
     "output_type": "stream",
     "text": [
      "On branch master\r\n",
      "Your branch is based on 'origin/master', but the upstream is gone.\r\n",
      "  (use \"git branch --unset-upstream\" to fixup)\r\n",
      "\r\n",
      "Untracked files:\r\n",
      "  (use \"git add <file>...\" to include in what will be committed)\r\n",
      "\r\n",
      "\t\u001b[31m.DS_Store\u001b[m\r\n",
      "\t\u001b[31m.ipynb_checkpoints/\u001b[m\r\n",
      "\t\u001b[31massets/\u001b[m\r\n",
      "\t\u001b[31mfundamentals.ipynb\u001b[m\r\n",
      "\t\u001b[31mmyapp/app.js\u001b[m\r\n",
      "\r\n",
      "nothing added to commit but untracked files present (use \"git add\" to track)\r\n"
     ]
    }
   ],
   "source": [
    "!git status"
   ]
  },
  {
   "cell_type": "code",
   "execution_count": 227,
   "metadata": {},
   "outputs": [],
   "source": [
    "!git diff ac890c5f24947e43de608a6098c2e87929aee67f"
   ]
  },
  {
   "cell_type": "markdown",
   "metadata": {},
   "source": [
    "Difference between the local code and the staged one..."
   ]
  },
  {
   "cell_type": "code",
   "execution_count": 225,
   "metadata": {},
   "outputs": [
    {
     "name": "stdout",
     "output_type": "stream",
     "text": [
      "\u001b[1mdiff --git a/myapp/index.html b/myapp/index.html\u001b[m\r\n",
      "\u001b[1mindex ecd3a11..b78dcb9 100644\u001b[m\r\n",
      "\u001b[1m--- a/myapp/index.html\u001b[m\r\n",
      "\u001b[1m+++ b/myapp/index.html\u001b[m\r\n",
      "\u001b[36m@@ -1 +1,2 @@\u001b[m\r\n",
      " <!-- Author: Noel Ruault. -->\u001b[m\r\n",
      "\u001b[32m+\u001b[m\u001b[32m<!-- First line from master. -->\u001b[m\r\n"
     ]
    }
   ],
   "source": [
    "!git diff 6d2b6"
   ]
  },
  {
   "cell_type": "code",
   "execution_count": 228,
   "metadata": {},
   "outputs": [
    {
     "name": "stdout",
     "output_type": "stream",
     "text": [
      "origin\r\n",
      "origin\thttps://github.com/noelruault/git-crash-course.git (fetch)\r\n",
      "origin\thttps://github.com/noelruault/git-crash-course.git (push)\r\n"
     ]
    }
   ],
   "source": [
    "!git remote && git remote --verbose"
   ]
  },
  {
   "attachments": {
    "image.png": {
     "image/png": "[encoded data removed]"
    }
   },
   "cell_type": "markdown",
   "metadata": {},
   "source": [
    "![image.png](attachment:image.png)"
   ]
  },
  {
   "cell_type": "code",
   "execution_count": 229,
   "metadata": {},
   "outputs": [
    {
     "name": "stdout",
     "output_type": "stream",
     "text": [
      "* \u001b[32mmaster\u001b[m\r\n"
     ]
    }
   ],
   "source": [
    "!git branch  # Check current branch names"
   ]
  },
  {
   "cell_type": "code",
   "execution_count": 230,
   "metadata": {},
   "outputs": [
    {
     "name": "stdout",
     "output_type": "stream",
     "text": [
      "fatal: ambiguous argument 'origin/master': unknown revision or path not in the working tree.\r\n",
      "Use '--' to separate paths from revisions, like this:\r\n",
      "'git <command> [<revision>...] -- [<file>...]'\r\n"
     ]
    }
   ],
   "source": [
    "!git diff master origin/master  # git diff <local branch> <remote>/<remote branch> "
   ]
  },
  {
   "cell_type": "code",
   "execution_count": 231,
   "metadata": {
    "scrolled": true
   },
   "outputs": [
    {
     "name": "stdout",
     "output_type": "stream",
     "text": [
      "Counting objects: 8, done.\n",
      "Delta compression using up to 4 threads.\n",
      "Compressing objects: 100% (3/3), done.\n",
      "Writing objects: 100% (8/8), 626 bytes | 125.00 KiB/s, done.\n",
      "Total 8 (delta 0), reused 0 (delta 0)\n",
      "To https://github.com/noelruault/git-crash-course.git\n",
      " * [new branch]      master -> master\n"
     ]
    }
   ],
   "source": [
    "!git push origin master"
   ]
  },
  {
   "cell_type": "code",
   "execution_count": 232,
   "metadata": {},
   "outputs": [],
   "source": [
    "!git diff master origin/master # EMPTY"
   ]
  },
  {
   "cell_type": "markdown",
   "metadata": {},
   "source": [
    "## Creating a new branch and analyzing its behaviour\n",
    "\n",
    "When you create a new branch, you will configure a copy of the current directory state.\n",
    "\n",
    "!! **CREATE MASTER BRANCH**\n",
    "\n",
    "> `git push origin <branch_name>`\n",
    "\n",
    "> `git push origin master`"
   ]
  },
  {
   "cell_type": "code",
   "execution_count": 233,
   "metadata": {},
   "outputs": [
    {
     "name": "stdout",
     "output_type": "stream",
     "text": [
      "* \u001b[32mmaster\u001b[m\n",
      "Switched to a new branch 'new_branch'\n",
      "Total 0 (delta 0), reused 0 (delta 0)\n",
      "remote: \n",
      "remote: Create a pull request for 'new_branch' on GitHub by visiting:\u001b[K\n",
      "remote:      https://github.com/noelruault/git-crash-course/pull/new/new_branch\u001b[K\n",
      "remote: \n",
      "To https://github.com/noelruault/git-crash-course.git\n",
      " * [new branch]      new_branch -> new_branch\n"
     ]
    }
   ],
   "source": [
    "!(git checkout -b new_branch && git push origin new_branch && git branch) | git branch"
   ]
  },
  {
   "cell_type": "code",
   "execution_count": 234,
   "metadata": {},
   "outputs": [
    {
     "name": "stdout",
     "output_type": "stream",
     "text": [
      "Switched to branch 'master'\r\n",
      "Your branch is up to date with 'origin/master'.\r\n"
     ]
    }
   ],
   "source": [
    "!git checkout master"
   ]
  },
  {
   "cell_type": "code",
   "execution_count": 235,
   "metadata": {},
   "outputs": [
    {
     "name": "stdout",
     "output_type": "stream",
     "text": [
      "[master 219d889] Add javascript file.\r\n",
      " 1 file changed, 0 insertions(+), 0 deletions(-)\r\n",
      " create mode 100644 myapp/app.js\r\n"
     ]
    }
   ],
   "source": [
    "!git add myapp/app.js && git commit -m \"Add javascript file.\""
   ]
  },
  {
   "cell_type": "code",
   "execution_count": 236,
   "metadata": {},
   "outputs": [
    {
     "name": "stdout",
     "output_type": "stream",
     "text": [
      "\u001b[1mdiff --git a/myapp/app.js b/myapp/app.js\u001b[m\r\n",
      "\u001b[1mdeleted file mode 100644\u001b[m\r\n",
      "\u001b[1mindex e69de29..0000000\u001b[m\r\n"
     ]
    }
   ],
   "source": [
    "!git diff master origin/master"
   ]
  },
  {
   "cell_type": "code",
   "execution_count": 237,
   "metadata": {},
   "outputs": [
    {
     "name": "stdout",
     "output_type": "stream",
     "text": [
      "Counting objects: 4, done.\n",
      "Delta compression using up to 4 threads.\n",
      "Compressing objects: 100% (2/2), done.\n",
      "Writing objects: 100% (4/4), 327 bytes | 163.00 KiB/s, done.\n",
      "Total 4 (delta 0), reused 0 (delta 0)\n",
      "To https://github.com/noelruault/git-crash-course.git\n",
      "   ac890c5..219d889  master -> master\n"
     ]
    }
   ],
   "source": [
    "!git push origin master"
   ]
  },
  {
   "cell_type": "code",
   "execution_count": 238,
   "metadata": {},
   "outputs": [
    {
     "name": "stdout",
     "output_type": "stream",
     "text": [
      "On branch master\r\n",
      "Your branch is up to date with 'origin/master'.\r\n",
      "\r\n",
      "Untracked files:\r\n",
      "  (use \"git add <file>...\" to include in what will be committed)\r\n",
      "\r\n",
      "\t\u001b[31m.DS_Store\u001b[m\r\n",
      "\t\u001b[31m.ipynb_checkpoints/\u001b[m\r\n",
      "\t\u001b[31massets/\u001b[m\r\n",
      "\t\u001b[31mfundamentals.ipynb\u001b[m\r\n",
      "\r\n",
      "nothing added to commit but untracked files present (use \"git add\" to track)\r\n"
     ]
    }
   ],
   "source": [
    "!git status"
   ]
  },
  {
   "cell_type": "code",
   "execution_count": null,
   "metadata": {},
   "outputs": [],
   "source": []
  },
  {
   "cell_type": "markdown",
   "metadata": {},
   "source": [
    "## Differences between current branches."
   ]
  },
  {
   "cell_type": "code",
   "execution_count": 239,
   "metadata": {},
   "outputs": [
    {
     "name": "stdout",
     "output_type": "stream",
     "text": [
      "\u001b[1mdiff --git a/myapp/app.js b/myapp/app.js\u001b[m\r\n",
      "\u001b[1mnew file mode 100644\u001b[m\r\n",
      "\u001b[1mindex 0000000..e69de29\u001b[m\r\n"
     ]
    }
   ],
   "source": [
    "!git diff origin/new_branch master"
   ]
  },
  {
   "cell_type": "code",
   "execution_count": 240,
   "metadata": {},
   "outputs": [
    {
     "name": "stdout",
     "output_type": "stream",
     "text": [
      "\u001b[1mdiff --git a/myapp/app.js b/myapp/app.js\u001b[m\r\n",
      "\u001b[1mdeleted file mode 100644\u001b[m\r\n",
      "\u001b[1mindex e69de29..0000000\u001b[m\r\n"
     ]
    }
   ],
   "source": [
    "!git diff master origin/new_branch"
   ]
  },
  {
   "cell_type": "markdown",
   "metadata": {},
   "source": [
    "## Updating the development environment\n",
    "\n",
    "### Fetching\n",
    "\n",
    "![](https://raw.githubusercontent.com/rachelcarmena/how-to-teach/master/git/fetch.png)\n",
    "\n",
    "When executing `git fetch`, the data from **remote repository** only travel to the **local repository**.\n",
    "\n",
    "### Pulling\n",
    "\n",
    "![](https://raw.githubusercontent.com/rachelcarmena/how-to-teach/master/git/pull.png)\n",
    "\n",
    "When executing `git pull`, the data from **remote repository** travel to 2 areas:\n",
    "\n",
    "*   To **local repository**: `fetch`\n",
    "*   To **working directory**: `merge`\n",
    "\n"
   ]
  },
  {
   "cell_type": "code",
   "execution_count": 242,
   "metadata": {},
   "outputs": [
    {
     "name": "stdout",
     "output_type": "stream",
     "text": [
      "Note: checking out 'origin/new_branch'.\r\n",
      "\r\n",
      "You are in 'detached HEAD' state. You can look around, make experimental\r\n",
      "changes and commit them, and you can discard any commits you make in this\r\n",
      "state without impacting any branches by performing another checkout.\r\n",
      "\r\n",
      "If you want to create a new branch to retain commits you create, you may\r\n",
      "do so (now or later) by using -b with the checkout command again. Example:\r\n",
      "\r\n",
      "  git checkout -b <new-branch-name>\r\n",
      "\r\n",
      "HEAD is now at ac890c5 Add first line to html file.\r\n"
     ]
    }
   ],
   "source": [
    "!git checkout origin/new_branch  # != git checkout new_branch"
   ]
  },
  {
   "cell_type": "markdown",
   "metadata": {},
   "source": [
    "You can checkout to new_branch without origin, but ensure that the branch is aligned with remote...\n",
    "Eg: \n",
    "> `git checkout new_branch new`\n",
    "\n",
    "> `git reset origin/new_branch --hard`"
   ]
  },
  {
   "cell_type": "code",
   "execution_count": 252,
   "metadata": {},
   "outputs": [
    {
     "name": "stdout",
     "output_type": "stream",
     "text": [
      "Previous HEAD position was ac890c5 Add first line to html file.\r\n",
      "Switched to branch 'new_branch'\r\n"
     ]
    }
   ],
   "source": [
    "!git checkout new_branch  # Going to local branch"
   ]
  },
  {
   "cell_type": "code",
   "execution_count": 253,
   "metadata": {},
   "outputs": [
    {
     "name": "stdout",
     "output_type": "stream",
     "text": [
      "Note: checking out 'origin/new_branch'.\r\n",
      "\r\n",
      "You are in 'detached HEAD' state. You can look around, make experimental\r\n",
      "changes and commit them, and you can discard any commits you make in this\r\n",
      "state without impacting any branches by performing another checkout.\r\n",
      "\r\n",
      "If you want to create a new branch to retain commits you create, you may\r\n",
      "do so (now or later) by using -b with the checkout command again. Example:\r\n",
      "\r\n",
      "  git checkout -b <new-branch-name>\r\n",
      "\r\n",
      "HEAD is now at ac890c5 Add first line to html file.\r\n"
     ]
    }
   ],
   "source": [
    "!git checkout origin/new_branch  # Going to remote branch"
   ]
  },
  {
   "cell_type": "markdown",
   "metadata": {},
   "source": [
    "\n",
    "If you take care the commit history, consider the use of `git pull --rebase`. Instead of `fetch + merge`, it consists of `fetch + rebase`. Your local commits will be replayed and you won’t see the known *diamond shape* in commit history.\n",
    "\n",
    "![](https://raw.githubusercontent.com/rachelcarmena/how-to-teach/master/git/pull-rebase.png)\n",
    "\n",
    "To learn more about pull & rebase: \n",
    "- https://www.atlassian.com/git/tutorials/syncing/git-pull\n",
    "- https://www.atlassian.com/git/tutorials/merging-vs-rebasing"
   ]
  },
  {
   "cell_type": "code",
   "execution_count": 248,
   "metadata": {},
   "outputs": [
    {
     "name": "stdout",
     "output_type": "stream",
     "text": [
      "HEAD is now at ac890c5 Add first line to html file.\r\n"
     ]
    }
   ],
   "source": [
    "!git checkout origin/new_branch"
   ]
  },
  {
   "cell_type": "code",
   "execution_count": 254,
   "metadata": {},
   "outputs": [
    {
     "name": "stdout",
     "output_type": "stream",
     "text": [
      "HEAD is now at ac890c5 Add first line to html file.\r\n"
     ]
    }
   ],
   "source": [
    "!git reset origin/new_branch --hard"
   ]
  },
  {
   "cell_type": "code",
   "execution_count": 255,
   "metadata": {},
   "outputs": [
    {
     "name": "stdout",
     "output_type": "stream",
     "text": [
      "<!-- Author: Noel Ruault. -->\r\n",
      "<!-- First line from new_branch. -->\r\n"
     ]
    }
   ],
   "source": [
    "!sed -i -- 's/master/new_branch/g' myapp/index.html && cat myapp/index.html"
   ]
  },
  {
   "cell_type": "code",
   "execution_count": 256,
   "metadata": {},
   "outputs": [
    {
     "name": "stdout",
     "output_type": "stream",
     "text": [
      "[detached HEAD 49dee59] Change first line, it is mine!\r\n",
      " 1 file changed, 1 insertion(+), 1 deletion(-)\r\n"
     ]
    }
   ],
   "source": [
    "!git add myapp/index.html && git commit -m \"Change first line, it is mine!\" && git log"
   ]
  },
  {
   "cell_type": "code",
   "execution_count": 257,
   "metadata": {},
   "outputs": [
    {
     "name": "stdout",
     "output_type": "stream",
     "text": [
      "Counting objects: 4, done.\n",
      "Delta compression using up to 4 threads.\n",
      "Compressing objects: 100% (2/2), done.\n",
      "Writing objects: 100% (4/4), 363 bytes | 181.00 KiB/s, done.\n",
      "Total 4 (delta 0), reused 0 (delta 0)\n",
      "To https://github.com/noelruault/git-crash-course.git\n",
      "   ac890c5..49dee59  new_branch -> new_branch\n"
     ]
    }
   ],
   "source": [
    "!git checkout -B new_branch && git push origin new_branch"
   ]
  },
  {
   "cell_type": "markdown",
   "metadata": {},
   "source": [
    "# Still pending... "
   ]
  },
  {
   "cell_type": "code",
   "execution_count": null,
   "metadata": {},
   "outputs": [],
   "source": [
    "# !git pull origin master --rebase && git status && git log"
   ]
  },
  {
   "cell_type": "code",
   "execution_count": null,
   "metadata": {},
   "outputs": [],
   "source": [
    "!git checkout master && sed -i -- 's/new_branch/master, again/g' myapp/index.html && cat myapp/index.html"
   ]
  },
  {
   "cell_type": "code",
   "execution_count": null,
   "metadata": {
    "scrolled": true
   },
   "outputs": [],
   "source": [
    "!git add myapp/index.html && git commit -m \"Change first line, it is property of master!\""
   ]
  },
  {
   "cell_type": "code",
   "execution_count": 258,
   "metadata": {},
   "outputs": [
    {
     "name": "stdout",
     "output_type": "stream",
     "text": [
      "Switched to branch 'master'\r\n",
      "Your branch is up to date with 'origin/master'.\r\n"
     ]
    }
   ],
   "source": [
    "!git checkout master"
   ]
  },
  {
   "cell_type": "code",
   "execution_count": 259,
   "metadata": {},
   "outputs": [
    {
     "name": "stdout",
     "output_type": "stream",
     "text": [
      "hint: Waiting for your editor to close the file... Ignoring binding_of_caller-0.8.0 because its extensions are not built.  Try: gem pristine binding_of_caller --version 0.8.0\n",
      "Ignoring binding_of_caller-0.7.2 because its extensions are not built.  Try: gem pristine binding_of_caller --version 0.7.2\n",
      "Ignoring byebug-10.0.2 because its extensions are not built.  Try: gem pristine byebug --version 10.0.2\n",
      "Ignoring byebug-9.0.6 because its extensions are not built.  Try: gem pristine byebug --version 9.0.6\n",
      "Ignoring byebug-9.0.5 because its extensions are not built.  Try: gem pristine byebug --version 9.0.5\n",
      "Ignoring byebug-5.0.0 because its extensions are not built.  Try: gem pristine byebug --version 5.0.0\n",
      "Ignoring debug_inspector-0.0.3 because its extensions are not built.  Try: gem pristine debug_inspector --version 0.0.3\n",
      "Ignoring debug_inspector-0.0.2 because its extensions are not built.  Try: gem pristine debug_inspector --version 0.0.2\n",
      "2019-01-30 18:20:14.132 Emacs-x86_64-10_10[13876:2861332] Failed to initialize color list unarchiver: Error Domain=NSCocoaErrorDomain Code=4864 \"*** -[NSKeyedUnarchiver _initForReadingFromData:error:throwLegacyExceptions:]: non-keyed archive cannot be decoded by NSKeyedUnarchiver\" UserInfo={NSDebugDescription=*** -[NSKeyedUnarchiver _initForReadingFromData:error:throwLegacyExceptions:]: non-keyed archive cannot be decoded by NSKeyedUnarchiver}\n",
      "\u001b[KMerge made by the 'recursive' strategy.\n",
      " myapp/index.html | 2 \u001b[32m+\u001b[m\u001b[31m-\u001b[m\n",
      " 1 file changed, 1 insertion(+), 1 deletion(-)\n",
      "* \u001b[32mmaster\u001b[m\n",
      "  new_branch\u001b[m\n"
     ]
    }
   ],
   "source": [
    "!git merge origin/new_branch && git branch"
   ]
  },
  {
   "cell_type": "markdown",
   "metadata": {},
   "source": [
    "## Next steps\n",
    "\n",
    "You can add another area in the development environment to explain stashing: **dirty working directory**.\n",
    "\n",
    "If people internalize these concepts, it will be easier for you to go a step further with branches, commit history, rebasing, etc. because you will have built a solid basis.\n",
    "\n"
   ]
  },
  {
   "cell_type": "markdown",
   "metadata": {},
   "source": [
    "## Friendly reminder\n",
    "\n",
    "I’ve worked with other version control systems (Visual SourceSafe, TFS and Subversion) and, in my humble experience, a lack of knowledge can be harmful with both an old tool and a new one. Don’t only focus on choosing a tool, but also on mastering it.\n",
    "\n"
   ]
  },
  {
   "cell_type": "markdown",
   "metadata": {},
   "source": [
    "## Further reading\n",
    "\n",
    "*   [Pro Git book](https://git-scm.com/book/en)\n",
    "\n"
   ]
  },
  {
   "cell_type": "markdown",
   "metadata": {},
   "source": [
    "## Received feedback\n",
    "\n",
    "My friend [Marc Villagrasa](https://twitter.com/marcvege) reminds me that he found it very useful to solve [Git challenges](https://www.slideshare.net/raquelmorenocarmena/git-challenges) and to share the solutions among colleagues.\n",
    "\n",
    "Resources from [comments at Hacker News](https://news.ycombinator.com/item?id=18919599):\n",
    "\n",
    "*   [Linus Torvalds’ greatest invention](http://perl.plover.com/yak/git/)\n",
    "*   [Tech Talk: Linus Torvalds on git](https://www.youtube.com/watch?v=4XpnKHJAok8)\n",
    "*   [Linux.conf.au 2013 \\- Git For Ages 4 And Up](https://www.youtube.com/watch?v=1ffBJ4sVUb4)\n",
    "*   [Git From the Bottom Up](https://jwiegley.github.io/git-from-the-bottom-up)\n",
    "*   [Git From the Bottom Up (PDF)](http://ftp.newartisans.com/pub/git.from.bottom.up.pdf)\n",
    "*   [Learn Git Branching](https://learngitbranching.js.org)\n",
    "*   [Flight rules for git](https://github.com/k88hudson/git-flight-rules)\n",
    "*   [Emacs package: Magit](https://magit.vc)\n",
    "*   [How to write a Good Commit Message](https://chris.beams.io/posts/git-commit/)\n",
    "*   [Become a git guru](https://www.atlassian.com/git/tutorials)\n",
    "*   [Git Immersion](http://gitimmersion.com)\n",
    "*   [Udacity: How to Use Git and GitHub](https://eu.udacity.com/course/how-to-use-git-and-github--ud775#)\n",
    "\n",
    "After reading more [comments at Reddit](https://www.reddit.com/r/programming/comments/agko6r/how_to_teach_git/), I think that a more accurate title for this post would be **An idea to teach Git**, because it’s only an idea that appeared in my head when learning Git by myself a few years ago with [Pro Git book](https://git-scm.com/book/en). This post is not a complete guide, only a starting point for trainers. I’m sure all of these resources will be very useful as well. Thanks!\n",
    "\n",
    "And thanks [Stuart Maxwell](https://stuartm.com) who shared this post at Hacker News and [u/cryptoz](https://www.reddit.com/user/cryptoz) who shared it at Reddit!\n",
    "\n",
    "[« How to make images accessible](https://rachelcarmena.github.io/2018/12/18/how-to-make-images-accessible.html) [Test\\-driven programming workflows »](https://rachelcarmena.github.io/2018/11/13/test-driven-programming-workflows.html)\n"
   ]
  },
  {
   "cell_type": "markdown",
   "metadata": {},
   "source": []
  },
  {
   "cell_type": "code",
   "execution_count": null,
   "metadata": {},
   "outputs": [],
   "source": []
  }
 ],
 "metadata": {
  "kernelspec": {
   "display_name": "Python 3",
   "language": "python",
   "name": "python3"
  },
  "language_info": {
   "codemirror_mode": {
    "name": "ipython",
    "version": 3
   },
   "file_extension": ".py",
   "mimetype": "text/x-python",
   "name": "python",
   "nbconvert_exporter": "python",
   "pygments_lexer": "ipython3",
   "version": "3.7.0"
  }
 },
 "nbformat": 4,
 "nbformat_minor": 2
}
